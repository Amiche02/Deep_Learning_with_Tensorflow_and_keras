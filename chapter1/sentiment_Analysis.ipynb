{
  "nbformat": 4,
  "nbformat_minor": 0,
  "metadata": {
    "colab": {
      "provenance": [],
      "gpuType": "T4"
    },
    "kernelspec": {
      "name": "python3",
      "display_name": "Python 3"
    },
    "language_info": {
      "name": "python"
    },
    "accelerator": "GPU"
  },
  "cells": [
    {
      "cell_type": "code",
      "execution_count": 11,
      "metadata": {
        "id": "vFLvNUb2opGE"
      },
      "outputs": [],
      "source": [
        "import tensorflow as tf\n",
        "from tensorflow.keras import datasets, layers, models, preprocessing\n",
        "import tensorflow_datasets as tfds"
      ]
    },
    {
      "cell_type": "code",
      "source": [
        "max_len = 200\n",
        "n_words = 10000\n",
        "dim_embedding = 256\n",
        "EPOCHS = 20\n",
        "BATCH_SIZE = 500"
      ],
      "metadata": {
        "id": "vrW8CGG1rFjo"
      },
      "execution_count": 3,
      "outputs": []
    },
    {
      "cell_type": "code",
      "source": [
        "def load_dataset():\n",
        "  (x_train, y_train), (x_test, y_test) = datasets.imdb.load_data(num_words=n_words)\n",
        "  # Pad sequences with max_len.\n",
        "  x_train = preprocessing.sequence.pad_sequences(x_train, maxlen=max_len)\n",
        "  x_test = preprocessing.sequence.pad_sequences(x_test, maxlen=max_len)\n",
        "\n",
        "  return (x_train, y_train), (x_test, y_test)"
      ],
      "metadata": {
        "id": "e86mFaZeriUE"
      },
      "execution_count": 16,
      "outputs": []
    },
    {
      "cell_type": "code",
      "source": [
        "def build_model():\n",
        "  model = models.Sequential([\n",
        "      layers.Embedding(n_words, dim_embedding, input_length=max_len),\n",
        "      layers.Dropout(0.3),\n",
        "      layers.GlobalMaxPool1D(),\n",
        "      layers.Dense(128, activation='relu'),\n",
        "      layers.Dropout(0.5),\n",
        "      layers.Dense(1, activation='sigmoid')\n",
        "  ])\n",
        "  return model"
      ],
      "metadata": {
        "id": "R-UIQdZ6s-jD"
      },
      "execution_count": 17,
      "outputs": []
    },
    {
      "cell_type": "code",
      "source": [
        "(x_train, y_train), (x_test, y_test) = load_dataset()\n",
        "model = build_model()\n",
        "model.summary()"
      ],
      "metadata": {
        "colab": {
          "base_uri": "https://localhost:8080/"
        },
        "id": "ns5If2Q0tbOO",
        "outputId": "03df7c70-72f0-40e0-cdff-20bc4691e972"
      },
      "execution_count": 19,
      "outputs": [
        {
          "output_type": "stream",
          "name": "stdout",
          "text": [
            "Model: \"sequential\"\n",
            "_________________________________________________________________\n",
            " Layer (type)                Output Shape              Param #   \n",
            "=================================================================\n",
            " embedding (Embedding)       (None, 200, 256)          2560000   \n",
            "                                                                 \n",
            " dropout (Dropout)           (None, 200, 256)          0         \n",
            "                                                                 \n",
            " global_max_pooling1d (Globa  (None, 256)              0         \n",
            " lMaxPooling1D)                                                  \n",
            "                                                                 \n",
            " dense (Dense)               (None, 128)               32896     \n",
            "                                                                 \n",
            " dropout_1 (Dropout)         (None, 128)               0         \n",
            "                                                                 \n",
            " dense_1 (Dense)             (None, 1)                 129       \n",
            "                                                                 \n",
            "=================================================================\n",
            "Total params: 2,593,025\n",
            "Trainable params: 2,593,025\n",
            "Non-trainable params: 0\n",
            "_________________________________________________________________\n"
          ]
        }
      ]
    },
    {
      "cell_type": "code",
      "source": [
        "model.compile(optimizer=\"Adam\", loss=\"binary_crossentropy\", metrics=[\"accuracy\"])\n",
        "\n",
        "score = model.fit(x_train, y_train,\n",
        "                  epochs=EPOCHS, batch_size=BATCH_SIZE,\n",
        "                  validation_data = (x_test, y_test))"
      ],
      "metadata": {
        "colab": {
          "base_uri": "https://localhost:8080/"
        },
        "id": "XquTvL3EtdWx",
        "outputId": "efcd2820-ab5f-47c2-da29-170792f65df6"
      },
      "execution_count": 20,
      "outputs": [
        {
          "output_type": "stream",
          "name": "stdout",
          "text": [
            "Epoch 1/20\n",
            "50/50 [==============================] - 16s 222ms/step - loss: 0.6677 - accuracy: 0.6456 - val_loss: 0.6157 - val_accuracy: 0.8367\n",
            "Epoch 2/20\n",
            "50/50 [==============================] - 10s 195ms/step - loss: 0.4357 - accuracy: 0.8464 - val_loss: 0.3497 - val_accuracy: 0.8607\n",
            "Epoch 3/20\n",
            "50/50 [==============================] - 7s 150ms/step - loss: 0.2722 - accuracy: 0.8892 - val_loss: 0.3005 - val_accuracy: 0.8766\n",
            "Epoch 4/20\n",
            "50/50 [==============================] - 6s 118ms/step - loss: 0.2111 - accuracy: 0.9178 - val_loss: 0.2907 - val_accuracy: 0.8786\n",
            "Epoch 5/20\n",
            "50/50 [==============================] - 6s 118ms/step - loss: 0.1675 - accuracy: 0.9408 - val_loss: 0.2933 - val_accuracy: 0.8751\n",
            "Epoch 6/20\n",
            "50/50 [==============================] - 5s 98ms/step - loss: 0.1329 - accuracy: 0.9549 - val_loss: 0.2963 - val_accuracy: 0.8737\n",
            "Epoch 7/20\n",
            "50/50 [==============================] - 4s 77ms/step - loss: 0.1005 - accuracy: 0.9686 - val_loss: 0.3058 - val_accuracy: 0.8699\n",
            "Epoch 8/20\n",
            "50/50 [==============================] - 4s 86ms/step - loss: 0.0761 - accuracy: 0.9786 - val_loss: 0.3201 - val_accuracy: 0.8665\n",
            "Epoch 9/20\n",
            "50/50 [==============================] - 3s 60ms/step - loss: 0.0580 - accuracy: 0.9846 - val_loss: 0.3460 - val_accuracy: 0.8596\n",
            "Epoch 10/20\n",
            "50/50 [==============================] - 4s 68ms/step - loss: 0.0422 - accuracy: 0.9905 - val_loss: 0.3547 - val_accuracy: 0.8601\n",
            "Epoch 11/20\n",
            "50/50 [==============================] - 3s 59ms/step - loss: 0.0314 - accuracy: 0.9936 - val_loss: 0.3736 - val_accuracy: 0.8576\n",
            "Epoch 12/20\n",
            "50/50 [==============================] - 2s 37ms/step - loss: 0.0244 - accuracy: 0.9952 - val_loss: 0.3929 - val_accuracy: 0.8552\n",
            "Epoch 13/20\n",
            "50/50 [==============================] - 2s 38ms/step - loss: 0.0182 - accuracy: 0.9971 - val_loss: 0.4060 - val_accuracy: 0.8560\n",
            "Epoch 14/20\n",
            "50/50 [==============================] - 2s 49ms/step - loss: 0.0158 - accuracy: 0.9976 - val_loss: 0.4235 - val_accuracy: 0.8529\n",
            "Epoch 15/20\n",
            "50/50 [==============================] - 1s 26ms/step - loss: 0.0129 - accuracy: 0.9977 - val_loss: 0.4430 - val_accuracy: 0.8519\n",
            "Epoch 16/20\n",
            "50/50 [==============================] - 2s 33ms/step - loss: 0.0108 - accuracy: 0.9983 - val_loss: 0.4550 - val_accuracy: 0.8516\n",
            "Epoch 17/20\n",
            "50/50 [==============================] - 2s 37ms/step - loss: 0.0083 - accuracy: 0.9990 - val_loss: 0.4699 - val_accuracy: 0.8506\n",
            "Epoch 18/20\n",
            "50/50 [==============================] - 1s 30ms/step - loss: 0.0075 - accuracy: 0.9988 - val_loss: 0.4781 - val_accuracy: 0.8493\n",
            "Epoch 19/20\n",
            "50/50 [==============================] - 3s 51ms/step - loss: 0.0061 - accuracy: 0.9992 - val_loss: 0.4929 - val_accuracy: 0.8501\n",
            "Epoch 20/20\n",
            "50/50 [==============================] - 1s 25ms/step - loss: 0.0055 - accuracy: 0.9992 - val_loss: 0.5032 - val_accuracy: 0.8501\n"
          ]
        }
      ]
    },
    {
      "cell_type": "code",
      "source": [
        "score_ = model.evaluate(x_test, y_test, batch_size=BATCH_SIZE)"
      ],
      "metadata": {
        "colab": {
          "base_uri": "https://localhost:8080/"
        },
        "id": "2HmvQBJBvNmZ",
        "outputId": "9d578820-269f-4e01-b3fd-87888f9e6e67"
      },
      "execution_count": 21,
      "outputs": [
        {
          "output_type": "stream",
          "name": "stdout",
          "text": [
            "50/50 [==============================] - 0s 3ms/step - loss: 0.5032 - accuracy: 0.8501\n"
          ]
        }
      ]
    },
    {
      "cell_type": "code",
      "source": [],
      "metadata": {
        "id": "KUQ83X7Rwm0j"
      },
      "execution_count": null,
      "outputs": []
    }
  ]
}