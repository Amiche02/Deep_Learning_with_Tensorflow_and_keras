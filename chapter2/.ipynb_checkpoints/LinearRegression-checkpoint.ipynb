{
 "cells": [
  {
   "cell_type": "markdown",
   "id": "c86396f7",
   "metadata": {},
   "source": [
    "***book :*** https://univ-scholarvox-com.ezproxy.univ-catholille.fr/reader/docid/88936120/page/77?searchterm=deep%20learning%20with%20Tensorflow\n",
    "\n",
    "*Chapter 1* Page 45\n",
    "\n",
    "## Simple linear regression"
   ]
  },
  {
   "cell_type": "code",
   "execution_count": 1,
   "id": "4a320bf5",
   "metadata": {},
   "outputs": [],
   "source": [
    "import tensorflow as tf\n",
    "import numpy as np\n",
    "import matplotlib.pyplot as plt\n",
    "import pandas as pd"
   ]
  },
  {
   "cell_type": "code",
   "execution_count": 2,
   "id": "1d5e29dd",
   "metadata": {},
   "outputs": [
    {
     "data": {
      "image/png": "[encoded data removed]",
      "text/plain": [
       "<Figure size 640x480 with 1 Axes>"
      ]
     },
     "metadata": {},
     "output_type": "display_data"
    }
   ],
   "source": [
    "#Generate a random data\n",
    "np.random.seed(0)\n",
    "area = 2.5 * np.random.randn(100) + 25\n",
    "price = 25 * area + 5 + np.random.randint(20,50, size = len(area))\n",
    "data = np.array([area, price])\n",
    "data = pd.DataFrame(data = data.T, columns=['area','price'])\n",
    "plt.scatter(data['area'], data['price'])\n",
    "plt.show()"
   ]
  },
  {
   "cell_type": "code",
   "execution_count": 3,
   "id": "027ec897",
   "metadata": {},
   "outputs": [
    {
     "data": {
      "text/html": [
       "<div>\n",
       "<style scoped>\n",
       "    .dataframe tbody tr th:only-of-type {\n",
       "        vertical-align: middle;\n",
       "    }\n",
       "\n",
       "    .dataframe tbody tr th {\n",
       "        vertical-align: top;\n",
       "    }\n",
       "\n",
       "    .dataframe thead th {\n",
       "        text-align: right;\n",
       "    }\n",
       "</style>\n",
       "<table border=\"1\" class=\"dataframe\">\n",
       "  <thead>\n",
       "    <tr style=\"text-align: right;\">\n",
       "      <th></th>\n",
       "      <th>area</th>\n",
       "      <th>price</th>\n",
       "    </tr>\n",
       "  </thead>\n",
       "  <tbody>\n",
       "    <tr>\n",
       "      <th>0</th>\n",
       "      <td>29.410131</td>\n",
       "      <td>760.253272</td>\n",
       "    </tr>\n",
       "    <tr>\n",
       "      <th>1</th>\n",
       "      <td>26.000393</td>\n",
       "      <td>679.009826</td>\n",
       "    </tr>\n",
       "    <tr>\n",
       "      <th>2</th>\n",
       "      <td>27.446845</td>\n",
       "      <td>738.171124</td>\n",
       "    </tr>\n",
       "    <tr>\n",
       "      <th>3</th>\n",
       "      <td>30.602233</td>\n",
       "      <td>817.055825</td>\n",
       "    </tr>\n",
       "    <tr>\n",
       "      <th>4</th>\n",
       "      <td>29.668895</td>\n",
       "      <td>791.722374</td>\n",
       "    </tr>\n",
       "    <tr>\n",
       "      <th>...</th>\n",
       "      <td>...</td>\n",
       "      <td>...</td>\n",
       "    </tr>\n",
       "    <tr>\n",
       "      <th>95</th>\n",
       "      <td>26.766433</td>\n",
       "      <td>705.160823</td>\n",
       "    </tr>\n",
       "    <tr>\n",
       "      <th>96</th>\n",
       "      <td>25.026250</td>\n",
       "      <td>652.656251</td>\n",
       "    </tr>\n",
       "    <tr>\n",
       "      <th>97</th>\n",
       "      <td>29.464676</td>\n",
       "      <td>766.616906</td>\n",
       "    </tr>\n",
       "    <tr>\n",
       "      <th>98</th>\n",
       "      <td>25.317280</td>\n",
       "      <td>678.932006</td>\n",
       "    </tr>\n",
       "    <tr>\n",
       "      <th>99</th>\n",
       "      <td>26.004973</td>\n",
       "      <td>691.124335</td>\n",
       "    </tr>\n",
       "  </tbody>\n",
       "</table>\n",
       "<p>100 rows × 2 columns</p>\n",
       "</div>"
      ],
      "text/plain": [
       "         area       price\n",
       "0   29.410131  760.253272\n",
       "1   26.000393  679.009826\n",
       "2   27.446845  738.171124\n",
       "3   30.602233  817.055825\n",
       "4   29.668895  791.722374\n",
       "..        ...         ...\n",
       "95  26.766433  705.160823\n",
       "96  25.026250  652.656251\n",
       "97  29.464676  766.616906\n",
       "98  25.317280  678.932006\n",
       "99  26.004973  691.124335\n",
       "\n",
       "[100 rows x 2 columns]"
      ]
     },
     "execution_count": 3,
     "metadata": {},
     "output_type": "execute_result"
    }
   ],
   "source": [
    "data"
   ]
  },
  {
   "cell_type": "code",
   "execution_count": 5,
   "id": "e7a8ce90",
   "metadata": {},
   "outputs": [
    {
     "data": {
      "text/plain": [
       "array([760.25327162, 679.00982552, 738.17112401, 817.05582495,\n",
       "       791.72237438])"
      ]
     },
     "execution_count": 5,
     "metadata": {},
     "output_type": "execute_result"
    }
   ],
   "source": [
    "price[:5]"
   ]
  },
  {
   "cell_type": "code",
   "execution_count": 6,
   "id": "462f24f2",
   "metadata": {},
   "outputs": [
    {
     "name": "stdout",
     "output_type": "stream",
     "text": [
      "The regression coefficients are 24.815544052284988 43.4989785533412\n"
     ]
    }
   ],
   "source": [
    "W = sum(price*(area-np.mean(area))) / sum((area-np.mean(area))**2)\n",
    "b = np.mean(price) - W*np.mean(area)\n",
    "print(\"The regression coefficients are\", W,b)"
   ]
  },
  {
   "cell_type": "code",
   "execution_count": 7,
   "id": "9365af78",
   "metadata": {},
   "outputs": [],
   "source": [
    "y_pred = W * area + b"
   ]
  },
  {
   "cell_type": "code",
   "execution_count": 8,
   "id": "f51f730f",
   "metadata": {},
   "outputs": [
    {
     "data": {
      "text/plain": [
       "<matplotlib.legend.Legend at 0x2d4a86185b0>"
      ]
     },
     "execution_count": 8,
     "metadata": {},
     "output_type": "execute_result"
    },
    {
     "data": {
      "image/png": "[encoded data removed]",
      "text/plain": [
       "<Figure size 640x480 with 1 Axes>"
      ]
     },
     "metadata": {},
     "output_type": "display_data"
    }
   ],
   "source": [
    "plt.plot(area, y_pred, color='red',label=\"Predicted Price\")\n",
    "plt.scatter(data['area'], data['price'], label=\"Training Data\")\n",
    "plt.xlabel(\"Area\")\n",
    "plt.ylabel(\"Price\")\n",
    "plt.legend()"
   ]
  },
  {
   "cell_type": "markdown",
   "id": "e2ae0e0d",
   "metadata": {},
   "source": [
    "## Simple linear regression using TensorFlow Keras"
   ]
  },
  {
   "cell_type": "code",
   "execution_count": 9,
   "id": "49c88200",
   "metadata": {},
   "outputs": [],
   "source": [
    "import numpy as np\n",
    "import pandas as pd\n",
    "import tensorflow as tf\n",
    "import tensorflow.keras as k\n",
    "from tensorflow.keras.layers import Dense"
   ]
  },
  {
   "cell_type": "code",
   "execution_count": 10,
   "id": "bacd0f22",
   "metadata": {},
   "outputs": [
    {
     "data": {
      "image/png": "[encoded data removed]",
      "text/plain": [
       "<Figure size 640x480 with 1 Axes>"
      ]
     },
     "metadata": {},
     "output_type": "display_data"
    }
   ],
   "source": [
    "#Generate a random data\n",
    "np.random.seed(0)\n",
    "area = 2.5 * np.random.randn(100) + 25\n",
    "price = 25 * area + 5 + np.random.randint(20,50, size = len(area))\n",
    "data = np.array([area, price])\n",
    "data = pd.DataFrame(data = data.T, columns=['area','price'])\n",
    "plt.scatter(data['area'], data['price'])\n",
    "plt.show()"
   ]
  },
  {
   "cell_type": "code",
   "execution_count": 11,
   "id": "92da241c",
   "metadata": {},
   "outputs": [
    {
     "data": {
      "text/html": [
       "<div>\n",
       "<style scoped>\n",
       "    .dataframe tbody tr th:only-of-type {\n",
       "        vertical-align: middle;\n",
       "    }\n",
       "\n",
       "    .dataframe tbody tr th {\n",
       "        vertical-align: top;\n",
       "    }\n",
       "\n",
       "    .dataframe thead th {\n",
       "        text-align: right;\n",
       "    }\n",
       "</style>\n",
       "<table border=\"1\" class=\"dataframe\">\n",
       "  <thead>\n",
       "    <tr style=\"text-align: right;\">\n",
       "      <th></th>\n",
       "      <th>area</th>\n",
       "      <th>price</th>\n",
       "    </tr>\n",
       "  </thead>\n",
       "  <tbody>\n",
       "    <tr>\n",
       "      <th>0</th>\n",
       "      <td>29.410131</td>\n",
       "      <td>760.253272</td>\n",
       "    </tr>\n",
       "    <tr>\n",
       "      <th>1</th>\n",
       "      <td>26.000393</td>\n",
       "      <td>679.009826</td>\n",
       "    </tr>\n",
       "    <tr>\n",
       "      <th>2</th>\n",
       "      <td>27.446845</td>\n",
       "      <td>738.171124</td>\n",
       "    </tr>\n",
       "    <tr>\n",
       "      <th>3</th>\n",
       "      <td>30.602233</td>\n",
       "      <td>817.055825</td>\n",
       "    </tr>\n",
       "    <tr>\n",
       "      <th>4</th>\n",
       "      <td>29.668895</td>\n",
       "      <td>791.722374</td>\n",
       "    </tr>\n",
       "    <tr>\n",
       "      <th>...</th>\n",
       "      <td>...</td>\n",
       "      <td>...</td>\n",
       "    </tr>\n",
       "    <tr>\n",
       "      <th>95</th>\n",
       "      <td>26.766433</td>\n",
       "      <td>705.160823</td>\n",
       "    </tr>\n",
       "    <tr>\n",
       "      <th>96</th>\n",
       "      <td>25.026250</td>\n",
       "      <td>652.656251</td>\n",
       "    </tr>\n",
       "    <tr>\n",
       "      <th>97</th>\n",
       "      <td>29.464676</td>\n",
       "      <td>766.616906</td>\n",
       "    </tr>\n",
       "    <tr>\n",
       "      <th>98</th>\n",
       "      <td>25.317280</td>\n",
       "      <td>678.932006</td>\n",
       "    </tr>\n",
       "    <tr>\n",
       "      <th>99</th>\n",
       "      <td>26.004973</td>\n",
       "      <td>691.124335</td>\n",
       "    </tr>\n",
       "  </tbody>\n",
       "</table>\n",
       "<p>100 rows × 2 columns</p>\n",
       "</div>"
      ],
      "text/plain": [
       "         area       price\n",
       "0   29.410131  760.253272\n",
       "1   26.000393  679.009826\n",
       "2   27.446845  738.171124\n",
       "3   30.602233  817.055825\n",
       "4   29.668895  791.722374\n",
       "..        ...         ...\n",
       "95  26.766433  705.160823\n",
       "96  25.026250  652.656251\n",
       "97  29.464676  766.616906\n",
       "98  25.317280  678.932006\n",
       "99  26.004973  691.124335\n",
       "\n",
       "[100 rows x 2 columns]"
      ]
     },
     "execution_count": 11,
     "metadata": {},
     "output_type": "execute_result"
    }
   ],
   "source": [
    "data"
   ]
  },
  {
   "cell_type": "code",
   "execution_count": 12,
   "id": "6b5a335f",
   "metadata": {},
   "outputs": [],
   "source": [
    "data = (data - data.min()) / (data.max() - data.min())  #Normalize (Min Max Scaler)"
   ]
  },
  {
   "cell_type": "code",
   "execution_count": 15,
   "id": "1f44b444",
   "metadata": {},
   "outputs": [
    {
     "name": "stdout",
     "output_type": "stream",
     "text": [
      "Model: \"sequential_2\"\n",
      "_________________________________________________________________\n",
      " Layer (type)                Output Shape              Param #   \n",
      "=================================================================\n",
      " dense_2 (Dense)             (None, 1)                 2         \n",
      "                                                                 \n",
      "=================================================================\n",
      "Total params: 2\n",
      "Trainable params: 2\n",
      "Non-trainable params: 0\n",
      "_________________________________________________________________\n"
     ]
    }
   ],
   "source": [
    "model = k.models.Sequential([\n",
    "    Dense(units=1, input_shape=(1,), activation=None)\n",
    "])\n",
    "\n",
    "model.summary()"
   ]
  },
  {
   "cell_type": "code",
   "execution_count": 27,
   "id": "36a472b5",
   "metadata": {},
   "outputs": [],
   "source": [
    "model.compile(loss='mean_squared_error', optimizer='sgd')"
   ]
  },
  {
   "cell_type": "code",
   "execution_count": 32,
   "id": "73513a56",
   "metadata": {},
   "outputs": [
    {
     "name": "stdout",
     "output_type": "stream",
     "text": [
      "Epoch 1/100\n",
      "3/3 [==============================] - 0s 36ms/step - loss: 0.0110 - val_loss: 0.0088\n",
      "Epoch 2/100\n",
      "3/3 [==============================] - 0s 21ms/step - loss: 0.0109 - val_loss: 0.0088\n",
      "Epoch 3/100\n",
      "3/3 [==============================] - 0s 23ms/step - loss: 0.0108 - val_loss: 0.0087\n",
      "Epoch 4/100\n",
      "3/3 [==============================] - 0s 21ms/step - loss: 0.0108 - val_loss: 0.0087\n",
      "Epoch 5/100\n",
      "3/3 [==============================] - 0s 19ms/step - loss: 0.0108 - val_loss: 0.0086\n",
      "Epoch 6/100\n",
      "3/3 [==============================] - 0s 23ms/step - loss: 0.0107 - val_loss: 0.0086\n",
      "Epoch 7/100\n",
      "3/3 [==============================] - 0s 21ms/step - loss: 0.0107 - val_loss: 0.0086\n",
      "Epoch 8/100\n",
      "3/3 [==============================] - 0s 21ms/step - loss: 0.0106 - val_loss: 0.0085\n",
      "Epoch 9/100\n",
      "3/3 [==============================] - 0s 22ms/step - loss: 0.0106 - val_loss: 0.0085\n",
      "Epoch 10/100\n",
      "3/3 [==============================] - 0s 18ms/step - loss: 0.0106 - val_loss: 0.0085\n",
      "Epoch 11/100\n",
      "3/3 [==============================] - 0s 21ms/step - loss: 0.0105 - val_loss: 0.0085\n",
      "Epoch 12/100\n",
      "3/3 [==============================] - 0s 21ms/step - loss: 0.0105 - val_loss: 0.0084\n",
      "Epoch 13/100\n",
      "3/3 [==============================] - 0s 21ms/step - loss: 0.0105 - val_loss: 0.0084\n",
      "Epoch 14/100\n",
      "3/3 [==============================] - 0s 25ms/step - loss: 0.0104 - val_loss: 0.0083\n",
      "Epoch 15/100\n",
      "3/3 [==============================] - 0s 26ms/step - loss: 0.0104 - val_loss: 0.0083\n",
      "Epoch 16/100\n",
      "3/3 [==============================] - 0s 29ms/step - loss: 0.0103 - val_loss: 0.0083\n",
      "Epoch 17/100\n",
      "3/3 [==============================] - 0s 28ms/step - loss: 0.0103 - val_loss: 0.0082\n",
      "Epoch 18/100\n",
      "3/3 [==============================] - 0s 34ms/step - loss: 0.0102 - val_loss: 0.0082\n",
      "Epoch 19/100\n",
      "3/3 [==============================] - 0s 29ms/step - loss: 0.0102 - val_loss: 0.0081\n",
      "Epoch 20/100\n",
      "3/3 [==============================] - 0s 30ms/step - loss: 0.0102 - val_loss: 0.0081\n",
      "Epoch 21/100\n",
      "3/3 [==============================] - 0s 30ms/step - loss: 0.0101 - val_loss: 0.0081\n",
      "Epoch 22/100\n",
      "3/3 [==============================] - 0s 26ms/step - loss: 0.0101 - val_loss: 0.0081\n",
      "Epoch 23/100\n",
      "3/3 [==============================] - 0s 28ms/step - loss: 0.0101 - val_loss: 0.0080\n",
      "Epoch 24/100\n",
      "3/3 [==============================] - 0s 24ms/step - loss: 0.0100 - val_loss: 0.0080\n",
      "Epoch 25/100\n",
      "3/3 [==============================] - 0s 26ms/step - loss: 0.0100 - val_loss: 0.0080\n",
      "Epoch 26/100\n",
      "3/3 [==============================] - 0s 25ms/step - loss: 0.0099 - val_loss: 0.0079\n",
      "Epoch 27/100\n",
      "3/3 [==============================] - 0s 25ms/step - loss: 0.0099 - val_loss: 0.0079\n",
      "Epoch 28/100\n",
      "3/3 [==============================] - 0s 22ms/step - loss: 0.0099 - val_loss: 0.0079\n",
      "Epoch 29/100\n",
      "3/3 [==============================] - 0s 22ms/step - loss: 0.0098 - val_loss: 0.0078\n",
      "Epoch 30/100\n",
      "3/3 [==============================] - 0s 22ms/step - loss: 0.0098 - val_loss: 0.0078\n",
      "Epoch 31/100\n",
      "3/3 [==============================] - 0s 22ms/step - loss: 0.0097 - val_loss: 0.0078\n",
      "Epoch 32/100\n",
      "3/3 [==============================] - 0s 21ms/step - loss: 0.0097 - val_loss: 0.0078\n",
      "Epoch 33/100\n",
      "3/3 [==============================] - 0s 29ms/step - loss: 0.0097 - val_loss: 0.0077\n",
      "Epoch 34/100\n",
      "3/3 [==============================] - 0s 35ms/step - loss: 0.0097 - val_loss: 0.0077\n",
      "Epoch 35/100\n",
      "3/3 [==============================] - 0s 24ms/step - loss: 0.0096 - val_loss: 0.0076\n",
      "Epoch 36/100\n",
      "3/3 [==============================] - 0s 26ms/step - loss: 0.0096 - val_loss: 0.0076\n",
      "Epoch 37/100\n",
      "3/3 [==============================] - 0s 24ms/step - loss: 0.0095 - val_loss: 0.0076\n",
      "Epoch 38/100\n",
      "3/3 [==============================] - 0s 22ms/step - loss: 0.0095 - val_loss: 0.0075\n",
      "Epoch 39/100\n",
      "3/3 [==============================] - 0s 23ms/step - loss: 0.0095 - val_loss: 0.0075\n",
      "Epoch 40/100\n",
      "3/3 [==============================] - 0s 25ms/step - loss: 0.0094 - val_loss: 0.0074\n",
      "Epoch 41/100\n",
      "3/3 [==============================] - 0s 25ms/step - loss: 0.0094 - val_loss: 0.0074\n",
      "Epoch 42/100\n",
      "3/3 [==============================] - 0s 26ms/step - loss: 0.0094 - val_loss: 0.0074\n",
      "Epoch 43/100\n",
      "3/3 [==============================] - 0s 23ms/step - loss: 0.0093 - val_loss: 0.0074\n",
      "Epoch 44/100\n",
      "3/3 [==============================] - 0s 26ms/step - loss: 0.0093 - val_loss: 0.0073\n",
      "Epoch 45/100\n",
      "3/3 [==============================] - 0s 23ms/step - loss: 0.0093 - val_loss: 0.0073\n",
      "Epoch 46/100\n",
      "3/3 [==============================] - 0s 22ms/step - loss: 0.0092 - val_loss: 0.0073\n",
      "Epoch 47/100\n",
      "3/3 [==============================] - 0s 22ms/step - loss: 0.0092 - val_loss: 0.0073\n",
      "Epoch 48/100\n",
      "3/3 [==============================] - 0s 22ms/step - loss: 0.0092 - val_loss: 0.0072\n",
      "Epoch 49/100\n",
      "3/3 [==============================] - 0s 25ms/step - loss: 0.0091 - val_loss: 0.0072\n",
      "Epoch 50/100\n",
      "3/3 [==============================] - 0s 23ms/step - loss: 0.0091 - val_loss: 0.0071\n",
      "Epoch 51/100\n",
      "3/3 [==============================] - 0s 27ms/step - loss: 0.0091 - val_loss: 0.0071\n",
      "Epoch 52/100\n",
      "3/3 [==============================] - 0s 37ms/step - loss: 0.0090 - val_loss: 0.0071\n",
      "Epoch 53/100\n",
      "3/3 [==============================] - 0s 36ms/step - loss: 0.0090 - val_loss: 0.0070\n",
      "Epoch 54/100\n",
      "3/3 [==============================] - 0s 27ms/step - loss: 0.0090 - val_loss: 0.0070\n",
      "Epoch 55/100\n",
      "3/3 [==============================] - 0s 24ms/step - loss: 0.0089 - val_loss: 0.0070\n",
      "Epoch 56/100\n",
      "3/3 [==============================] - 0s 21ms/step - loss: 0.0089 - val_loss: 0.0069\n",
      "Epoch 57/100\n",
      "3/3 [==============================] - 0s 22ms/step - loss: 0.0089 - val_loss: 0.0069\n",
      "Epoch 58/100\n",
      "3/3 [==============================] - 0s 22ms/step - loss: 0.0088 - val_loss: 0.0069\n",
      "Epoch 59/100\n",
      "3/3 [==============================] - 0s 19ms/step - loss: 0.0088 - val_loss: 0.0069\n",
      "Epoch 60/100\n",
      "3/3 [==============================] - 0s 21ms/step - loss: 0.0088 - val_loss: 0.0069\n",
      "Epoch 61/100\n",
      "3/3 [==============================] - 0s 20ms/step - loss: 0.0087 - val_loss: 0.0068\n",
      "Epoch 62/100\n",
      "3/3 [==============================] - 0s 20ms/step - loss: 0.0087 - val_loss: 0.0068\n",
      "Epoch 63/100\n",
      "3/3 [==============================] - 0s 20ms/step - loss: 0.0087 - val_loss: 0.0068\n",
      "Epoch 64/100\n",
      "3/3 [==============================] - 0s 20ms/step - loss: 0.0086 - val_loss: 0.0067\n",
      "Epoch 65/100\n",
      "3/3 [==============================] - 0s 29ms/step - loss: 0.0086 - val_loss: 0.0067\n",
      "Epoch 66/100\n",
      "3/3 [==============================] - 0s 32ms/step - loss: 0.0086 - val_loss: 0.0067\n",
      "Epoch 67/100\n",
      "3/3 [==============================] - 0s 29ms/step - loss: 0.0085 - val_loss: 0.0067\n",
      "Epoch 68/100\n",
      "3/3 [==============================] - 0s 25ms/step - loss: 0.0085 - val_loss: 0.0067\n",
      "Epoch 69/100\n",
      "3/3 [==============================] - 0s 26ms/step - loss: 0.0085 - val_loss: 0.0067\n",
      "Epoch 70/100\n",
      "3/3 [==============================] - 0s 22ms/step - loss: 0.0084 - val_loss: 0.0066\n",
      "Epoch 71/100\n",
      "3/3 [==============================] - 0s 19ms/step - loss: 0.0084 - val_loss: 0.0066\n",
      "Epoch 72/100\n",
      "3/3 [==============================] - 0s 20ms/step - loss: 0.0084 - val_loss: 0.0066\n",
      "Epoch 73/100\n",
      "3/3 [==============================] - 0s 18ms/step - loss: 0.0083 - val_loss: 0.0065\n",
      "Epoch 74/100\n",
      "3/3 [==============================] - 0s 19ms/step - loss: 0.0083 - val_loss: 0.0065\n",
      "Epoch 75/100\n",
      "3/3 [==============================] - 0s 19ms/step - loss: 0.0083 - val_loss: 0.0065\n",
      "Epoch 76/100\n",
      "3/3 [==============================] - 0s 19ms/step - loss: 0.0083 - val_loss: 0.0065\n",
      "Epoch 77/100\n",
      "3/3 [==============================] - 0s 19ms/step - loss: 0.0082 - val_loss: 0.0064\n",
      "Epoch 78/100\n",
      "3/3 [==============================] - 0s 19ms/step - loss: 0.0082 - val_loss: 0.0064\n",
      "Epoch 79/100\n",
      "3/3 [==============================] - 0s 19ms/step - loss: 0.0082 - val_loss: 0.0064\n",
      "Epoch 80/100\n",
      "3/3 [==============================] - 0s 20ms/step - loss: 0.0081 - val_loss: 0.0064\n",
      "Epoch 81/100\n",
      "3/3 [==============================] - 0s 21ms/step - loss: 0.0081 - val_loss: 0.0063\n",
      "Epoch 82/100\n",
      "3/3 [==============================] - 0s 21ms/step - loss: 0.0081 - val_loss: 0.0063\n",
      "Epoch 83/100\n",
      "3/3 [==============================] - 0s 20ms/step - loss: 0.0081 - val_loss: 0.0063\n"
     ]
    },
    {
     "name": "stdout",
     "output_type": "stream",
     "text": [
      "Epoch 84/100\n",
      "3/3 [==============================] - 0s 22ms/step - loss: 0.0080 - val_loss: 0.0063\n",
      "Epoch 85/100\n",
      "3/3 [==============================] - 0s 21ms/step - loss: 0.0080 - val_loss: 0.0063\n",
      "Epoch 86/100\n",
      "3/3 [==============================] - 0s 22ms/step - loss: 0.0080 - val_loss: 0.0062\n",
      "Epoch 87/100\n",
      "3/3 [==============================] - 0s 27ms/step - loss: 0.0079 - val_loss: 0.0062\n",
      "Epoch 88/100\n",
      "3/3 [==============================] - 0s 31ms/step - loss: 0.0079 - val_loss: 0.0062\n",
      "Epoch 89/100\n",
      "3/3 [==============================] - 0s 32ms/step - loss: 0.0079 - val_loss: 0.0062\n",
      "Epoch 90/100\n",
      "3/3 [==============================] - 0s 33ms/step - loss: 0.0078 - val_loss: 0.0061\n",
      "Epoch 91/100\n",
      "3/3 [==============================] - 0s 33ms/step - loss: 0.0078 - val_loss: 0.0061\n",
      "Epoch 92/100\n",
      "3/3 [==============================] - 0s 40ms/step - loss: 0.0078 - val_loss: 0.0061\n",
      "Epoch 93/100\n",
      "3/3 [==============================] - 0s 29ms/step - loss: 0.0078 - val_loss: 0.0061\n",
      "Epoch 94/100\n",
      "3/3 [==============================] - 0s 30ms/step - loss: 0.0077 - val_loss: 0.0060\n",
      "Epoch 95/100\n",
      "3/3 [==============================] - 0s 31ms/step - loss: 0.0077 - val_loss: 0.0060\n",
      "Epoch 96/100\n",
      "3/3 [==============================] - 0s 34ms/step - loss: 0.0077 - val_loss: 0.0060\n",
      "Epoch 97/100\n",
      "3/3 [==============================] - 0s 31ms/step - loss: 0.0077 - val_loss: 0.0060\n",
      "Epoch 98/100\n",
      "3/3 [==============================] - 0s 31ms/step - loss: 0.0076 - val_loss: 0.0060\n",
      "Epoch 99/100\n",
      "3/3 [==============================] - 0s 33ms/step - loss: 0.0076 - val_loss: 0.0059\n",
      "Epoch 100/100\n",
      "3/3 [==============================] - 0s 31ms/step - loss: 0.0076 - val_loss: 0.0059\n"
     ]
    },
    {
     "data": {
      "text/plain": [
       "<keras.callbacks.History at 0x2d5c1dffb20>"
      ]
     },
     "execution_count": 32,
     "metadata": {},
     "output_type": "execute_result"
    }
   ],
   "source": [
    "model.fit(x=data['area'],y=data['price'], epochs=100, batch_size=32, \n",
    "verbose=1, validation_split=0.2)"
   ]
  },
  {
   "cell_type": "code",
   "execution_count": 33,
   "id": "afbb2c4c",
   "metadata": {},
   "outputs": [
    {
     "name": "stdout",
     "output_type": "stream",
     "text": [
      "4/4 [==============================] - 0s 2ms/step\n"
     ]
    }
   ],
   "source": [
    "y_pred = model.predict(data[\"area\"])"
   ]
  },
  {
   "cell_type": "code",
   "execution_count": 34,
   "id": "4b4c26c3",
   "metadata": {},
   "outputs": [
    {
     "data": {
      "text/plain": [
       "<matplotlib.legend.Legend at 0x2d5c0992b00>"
      ]
     },
     "execution_count": 34,
     "metadata": {},
     "output_type": "execute_result"
    },
    {
     "data": {
      "image/png": "[encoded data removed]",
      "text/plain": [
       "<Figure size 640x480 with 1 Axes>"
      ]
     },
     "metadata": {},
     "output_type": "display_data"
    }
   ],
   "source": [
    "plt.plot(data['area'], y_pred, color='red',label=\"Predicted Price\")\n",
    "plt.scatter(data['area'], data['price'], label=\"Training Data\")\n",
    "plt.xlabel(\"Area\")\n",
    "plt.ylabel(\"Price\")\n",
    "plt.legend()"
   ]
  },
  {
   "cell_type": "code",
   "execution_count": 35,
   "id": "daac09dd",
   "metadata": {},
   "outputs": [
    {
     "data": {
      "text/plain": [
       "[<tf.Variable 'dense_2/kernel:0' shape=(1, 1) dtype=float32, numpy=array([[0.6247431]], dtype=float32)>,\n",
       " <tf.Variable 'dense_2/bias:0' shape=(1,) dtype=float32, numpy=array([0.1616049], dtype=float32)>]"
      ]
     },
     "execution_count": 35,
     "metadata": {},
     "output_type": "execute_result"
    }
   ],
   "source": [
    "model.weights"
   ]
  },
  {
   "cell_type": "markdown",
   "id": "eac4418f",
   "metadata": {},
   "source": [
    "## Multiple and multivariate linear regression using the TensorFlow Keras API"
   ]
  },
  {
   "cell_type": "code",
   "execution_count": null,
   "id": "54d9f9da",
   "metadata": {},
   "outputs": [],
   "source": [
    "import tensorflow as tf\n",
    "import numpy as np\n",
    "import matplotlib.pyplot as plt\n",
    "import pandas as pd\n",
    "import tensorflow.keras as K\n",
    "form "
   ]
  }
 ],
 "metadata": {
  "kernelspec": {
   "display_name": "Python 3 (ipykernel)",
   "language": "python",
   "name": "python3"
  },
  "language_info": {
   "codemirror_mode": {
    "name": "ipython",
    "version": 3
   },
   "file_extension": ".py",
   "mimetype": "text/x-python",
   "name": "python",
   "nbconvert_exporter": "python",
   "pygments_lexer": "ipython3",
   "version": "3.10.11"
  }
 },
 "nbformat": 4,
 "nbformat_minor": 5
}
